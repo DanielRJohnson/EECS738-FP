{
 "cells": [
  {
   "cell_type": "code",
   "execution_count": 105,
   "id": "efc5a180",
   "metadata": {},
   "outputs": [],
   "source": [
    "# Imports\n",
    "import pandas as pd\n",
    "import numpy as np\n",
    "import seaborn as sns\n",
    "import matplotlib.pyplot as plt\n",
    "from sklearn.preprocessing import RobustScaler\n",
    "from sklearn.model_selection import train_test_split\n",
    "from sklearn.tree import DecisionTreeClassifier\n",
    "from sklearn.metrics import f1_score\n",
    "from itertools import combinations\n",
    "from tqdm.notebook import tqdm"
   ]
  },
  {
   "cell_type": "code",
   "execution_count": 106,
   "id": "59f1c3b0",
   "metadata": {},
   "outputs": [
    {
     "data": {
      "text/html": [
       "<div>\n",
       "<style scoped>\n",
       "    .dataframe tbody tr th:only-of-type {\n",
       "        vertical-align: middle;\n",
       "    }\n",
       "\n",
       "    .dataframe tbody tr th {\n",
       "        vertical-align: top;\n",
       "    }\n",
       "\n",
       "    .dataframe thead th {\n",
       "        text-align: right;\n",
       "    }\n",
       "</style>\n",
       "<table border=\"1\" class=\"dataframe\">\n",
       "  <thead>\n",
       "    <tr style=\"text-align: right;\">\n",
       "      <th></th>\n",
       "      <th>AirTemp</th>\n",
       "      <th>QV</th>\n",
       "      <th>Omega</th>\n",
       "      <th>SeaLevPress</th>\n",
       "      <th>UWinds</th>\n",
       "      <th>VWinds</th>\n",
       "      <th>LH</th>\n",
       "      <th>Time</th>\n",
       "      <th>Lat</th>\n",
       "      <th>Lon</th>\n",
       "    </tr>\n",
       "  </thead>\n",
       "  <tbody>\n",
       "    <tr>\n",
       "      <th>0</th>\n",
       "      <td>7.060846</td>\n",
       "      <td>7.267001</td>\n",
       "      <td>0.000642</td>\n",
       "      <td>1021.565625</td>\n",
       "      <td>-11.894431</td>\n",
       "      <td>-5.276164</td>\n",
       "      <td>12.888080</td>\n",
       "      <td>2000010100</td>\n",
       "      <td>25.064459</td>\n",
       "      <td>-35.368896</td>\n",
       "    </tr>\n",
       "    <tr>\n",
       "      <th>1</th>\n",
       "      <td>7.100183</td>\n",
       "      <td>7.474899</td>\n",
       "      <td>-0.000296</td>\n",
       "      <td>1021.084141</td>\n",
       "      <td>-11.230261</td>\n",
       "      <td>-3.172798</td>\n",
       "      <td>-10.217120</td>\n",
       "      <td>2000010103</td>\n",
       "      <td>24.480576</td>\n",
       "      <td>-36.771637</td>\n",
       "    </tr>\n",
       "    <tr>\n",
       "      <th>2</th>\n",
       "      <td>7.068231</td>\n",
       "      <td>7.335827</td>\n",
       "      <td>0.000323</td>\n",
       "      <td>1020.302969</td>\n",
       "      <td>-10.246526</td>\n",
       "      <td>-1.993664</td>\n",
       "      <td>0.511768</td>\n",
       "      <td>2000010106</td>\n",
       "      <td>24.649042</td>\n",
       "      <td>-37.882874</td>\n",
       "    </tr>\n",
       "    <tr>\n",
       "      <th>3</th>\n",
       "      <td>7.328638</td>\n",
       "      <td>7.064822</td>\n",
       "      <td>0.000828</td>\n",
       "      <td>1020.585156</td>\n",
       "      <td>-9.889462</td>\n",
       "      <td>-1.943067</td>\n",
       "      <td>-16.420087</td>\n",
       "      <td>2000010109</td>\n",
       "      <td>24.122194</td>\n",
       "      <td>-38.753021</td>\n",
       "    </tr>\n",
       "    <tr>\n",
       "      <th>4</th>\n",
       "      <td>7.598169</td>\n",
       "      <td>7.333828</td>\n",
       "      <td>0.000373</td>\n",
       "      <td>1022.448281</td>\n",
       "      <td>-10.461138</td>\n",
       "      <td>-1.204948</td>\n",
       "      <td>-6.642615</td>\n",
       "      <td>2000010112</td>\n",
       "      <td>24.368916</td>\n",
       "      <td>-40.022919</td>\n",
       "    </tr>\n",
       "  </tbody>\n",
       "</table>\n",
       "</div>"
      ],
      "text/plain": [
       "    AirTemp        QV     Omega  SeaLevPress     UWinds    VWinds         LH  \\\n",
       "0  7.060846  7.267001  0.000642  1021.565625 -11.894431 -5.276164  12.888080   \n",
       "1  7.100183  7.474899 -0.000296  1021.084141 -11.230261 -3.172798 -10.217120   \n",
       "2  7.068231  7.335827  0.000323  1020.302969 -10.246526 -1.993664   0.511768   \n",
       "3  7.328638  7.064822  0.000828  1020.585156  -9.889462 -1.943067 -16.420087   \n",
       "4  7.598169  7.333828  0.000373  1022.448281 -10.461138 -1.204948  -6.642615   \n",
       "\n",
       "         Time        Lat        Lon  \n",
       "0  2000010100  25.064459 -35.368896  \n",
       "1  2000010103  24.480576 -36.771637  \n",
       "2  2000010106  24.649042 -37.882874  \n",
       "3  2000010109  24.122194 -38.753021  \n",
       "4  2000010112  24.368916 -40.022919  "
      ]
     },
     "execution_count": 106,
     "metadata": {},
     "output_type": "execute_result"
    }
   ],
   "source": [
    "# Datafile\n",
    "df = pd.read_csv(\"./data_table_NA850_nonfiltered_updated.csv\")\n",
    "df.head()"
   ]
  },
  {
   "cell_type": "code",
   "execution_count": 107,
   "id": "ed59b030",
   "metadata": {},
   "outputs": [
    {
     "data": {
      "text/html": [
       "<div>\n",
       "<style scoped>\n",
       "    .dataframe tbody tr th:only-of-type {\n",
       "        vertical-align: middle;\n",
       "    }\n",
       "\n",
       "    .dataframe tbody tr th {\n",
       "        vertical-align: top;\n",
       "    }\n",
       "\n",
       "    .dataframe thead th {\n",
       "        text-align: right;\n",
       "    }\n",
       "</style>\n",
       "<table border=\"1\" class=\"dataframe\">\n",
       "  <thead>\n",
       "    <tr style=\"text-align: right;\">\n",
       "      <th></th>\n",
       "      <th>LH</th>\n",
       "    </tr>\n",
       "  </thead>\n",
       "  <tbody>\n",
       "    <tr>\n",
       "      <th>LH</th>\n",
       "      <td>1.000000</td>\n",
       "    </tr>\n",
       "    <tr>\n",
       "      <th>Omega</th>\n",
       "      <td>0.455173</td>\n",
       "    </tr>\n",
       "    <tr>\n",
       "      <th>QV</th>\n",
       "      <td>0.406391</td>\n",
       "    </tr>\n",
       "    <tr>\n",
       "      <th>Lon</th>\n",
       "      <td>0.170593</td>\n",
       "    </tr>\n",
       "    <tr>\n",
       "      <th>SeaLevPress</th>\n",
       "      <td>0.140413</td>\n",
       "    </tr>\n",
       "    <tr>\n",
       "      <th>Lat</th>\n",
       "      <td>0.131128</td>\n",
       "    </tr>\n",
       "    <tr>\n",
       "      <th>AirTemp</th>\n",
       "      <td>0.121293</td>\n",
       "    </tr>\n",
       "    <tr>\n",
       "      <th>Time</th>\n",
       "      <td>0.116621</td>\n",
       "    </tr>\n",
       "    <tr>\n",
       "      <th>UWinds</th>\n",
       "      <td>0.041764</td>\n",
       "    </tr>\n",
       "    <tr>\n",
       "      <th>VWinds</th>\n",
       "      <td>0.007098</td>\n",
       "    </tr>\n",
       "  </tbody>\n",
       "</table>\n",
       "</div>"
      ],
      "text/plain": [
       "                   LH\n",
       "LH           1.000000\n",
       "Omega        0.455173\n",
       "QV           0.406391\n",
       "Lon          0.170593\n",
       "SeaLevPress  0.140413\n",
       "Lat          0.131128\n",
       "AirTemp      0.121293\n",
       "Time         0.116621\n",
       "UWinds       0.041764\n",
       "VWinds       0.007098"
      ]
     },
     "execution_count": 107,
     "metadata": {},
     "output_type": "execute_result"
    }
   ],
   "source": [
    "desc_corr = abs(df.corr('kendall'))[['LH']].sort_values(by='LH', ascending=False)\n",
    "desc_corr"
   ]
  },
  {
   "cell_type": "code",
   "execution_count": 108,
   "id": "9a1e3fdf",
   "metadata": {},
   "outputs": [],
   "source": [
    "LQ = df.LH.quantile(0.25)\n",
    "UQ = df.LH.quantile(0.75)\n",
    "bound = 1.5 * (UQ - LQ) #Whisker length * IQR\n",
    "lower_bound = LQ - bound\n",
    "upper_bound = UQ + bound\n",
    "df[\"Extreme\"] = np.where( (df[\"LH\"] > upper_bound) | (df[\"LH\"]  < lower_bound), 1, 0)"
   ]
  },
  {
   "cell_type": "code",
   "execution_count": 109,
   "id": "2fc8f5e3",
   "metadata": {},
   "outputs": [],
   "source": [
    "data_Y = df[\"Extreme\"]\n",
    "data_X = df.drop([\"Extreme\", \"LH\"], axis=1)"
   ]
  },
  {
   "cell_type": "code",
   "execution_count": null,
   "id": "fb7c43e1",
   "metadata": {
    "scrolled": true
   },
   "outputs": [],
   "source": []
  },
  {
   "cell_type": "code",
   "execution_count": 110,
   "id": "baa98898",
   "metadata": {},
   "outputs": [
    {
     "data": {
      "text/html": [
       "<div>\n",
       "<style scoped>\n",
       "    .dataframe tbody tr th:only-of-type {\n",
       "        vertical-align: middle;\n",
       "    }\n",
       "\n",
       "    .dataframe tbody tr th {\n",
       "        vertical-align: top;\n",
       "    }\n",
       "\n",
       "    .dataframe thead th {\n",
       "        text-align: right;\n",
       "    }\n",
       "</style>\n",
       "<table border=\"1\" class=\"dataframe\">\n",
       "  <thead>\n",
       "    <tr style=\"text-align: right;\">\n",
       "      <th></th>\n",
       "      <th>AirTemp</th>\n",
       "      <th>QV</th>\n",
       "      <th>Omega</th>\n",
       "      <th>SeaLevPress</th>\n",
       "      <th>UWinds</th>\n",
       "      <th>VWinds</th>\n",
       "      <th>Time</th>\n",
       "      <th>Lat</th>\n",
       "      <th>Lon</th>\n",
       "    </tr>\n",
       "  </thead>\n",
       "  <tbody>\n",
       "    <tr>\n",
       "      <th>0</th>\n",
       "      <td>7.060846</td>\n",
       "      <td>7.267001</td>\n",
       "      <td>0.000642</td>\n",
       "      <td>1021.565625</td>\n",
       "      <td>-11.894431</td>\n",
       "      <td>-5.276164</td>\n",
       "      <td>2000010100</td>\n",
       "      <td>25.064459</td>\n",
       "      <td>-35.368896</td>\n",
       "    </tr>\n",
       "    <tr>\n",
       "      <th>1</th>\n",
       "      <td>7.100183</td>\n",
       "      <td>7.474899</td>\n",
       "      <td>-0.000296</td>\n",
       "      <td>1021.084141</td>\n",
       "      <td>-11.230261</td>\n",
       "      <td>-3.172798</td>\n",
       "      <td>2000010103</td>\n",
       "      <td>24.480576</td>\n",
       "      <td>-36.771637</td>\n",
       "    </tr>\n",
       "    <tr>\n",
       "      <th>2</th>\n",
       "      <td>7.068231</td>\n",
       "      <td>7.335827</td>\n",
       "      <td>0.000323</td>\n",
       "      <td>1020.302969</td>\n",
       "      <td>-10.246526</td>\n",
       "      <td>-1.993664</td>\n",
       "      <td>2000010106</td>\n",
       "      <td>24.649042</td>\n",
       "      <td>-37.882874</td>\n",
       "    </tr>\n",
       "    <tr>\n",
       "      <th>3</th>\n",
       "      <td>7.328638</td>\n",
       "      <td>7.064822</td>\n",
       "      <td>0.000828</td>\n",
       "      <td>1020.585156</td>\n",
       "      <td>-9.889462</td>\n",
       "      <td>-1.943067</td>\n",
       "      <td>2000010109</td>\n",
       "      <td>24.122194</td>\n",
       "      <td>-38.753021</td>\n",
       "    </tr>\n",
       "    <tr>\n",
       "      <th>4</th>\n",
       "      <td>7.598169</td>\n",
       "      <td>7.333828</td>\n",
       "      <td>0.000373</td>\n",
       "      <td>1022.448281</td>\n",
       "      <td>-10.461138</td>\n",
       "      <td>-1.204948</td>\n",
       "      <td>2000010112</td>\n",
       "      <td>24.368916</td>\n",
       "      <td>-40.022919</td>\n",
       "    </tr>\n",
       "    <tr>\n",
       "      <th>...</th>\n",
       "      <td>...</td>\n",
       "      <td>...</td>\n",
       "      <td>...</td>\n",
       "      <td>...</td>\n",
       "      <td>...</td>\n",
       "      <td>...</td>\n",
       "      <td>...</td>\n",
       "      <td>...</td>\n",
       "      <td>...</td>\n",
       "    </tr>\n",
       "    <tr>\n",
       "      <th>1727</th>\n",
       "      <td>15.948999</td>\n",
       "      <td>11.653900</td>\n",
       "      <td>-0.000827</td>\n",
       "      <td>1013.982500</td>\n",
       "      <td>-11.293950</td>\n",
       "      <td>-0.528353</td>\n",
       "      <td>2000121718</td>\n",
       "      <td>16.255468</td>\n",
       "      <td>-65.481140</td>\n",
       "    </tr>\n",
       "    <tr>\n",
       "      <th>1728</th>\n",
       "      <td>16.130365</td>\n",
       "      <td>11.756897</td>\n",
       "      <td>-0.001596</td>\n",
       "      <td>1013.459063</td>\n",
       "      <td>-9.442187</td>\n",
       "      <td>-0.190940</td>\n",
       "      <td>2000121721</td>\n",
       "      <td>15.835272</td>\n",
       "      <td>-66.934265</td>\n",
       "    </tr>\n",
       "    <tr>\n",
       "      <th>1729</th>\n",
       "      <td>16.080194</td>\n",
       "      <td>12.042999</td>\n",
       "      <td>-0.001654</td>\n",
       "      <td>1015.073047</td>\n",
       "      <td>-9.237350</td>\n",
       "      <td>-0.138638</td>\n",
       "      <td>2000121800</td>\n",
       "      <td>15.924951</td>\n",
       "      <td>-67.460663</td>\n",
       "    </tr>\n",
       "    <tr>\n",
       "      <th>1730</th>\n",
       "      <td>15.767419</td>\n",
       "      <td>10.295868</td>\n",
       "      <td>-0.000208</td>\n",
       "      <td>1015.828281</td>\n",
       "      <td>-10.230459</td>\n",
       "      <td>-0.086515</td>\n",
       "      <td>2000121803</td>\n",
       "      <td>16.759212</td>\n",
       "      <td>-67.945740</td>\n",
       "    </tr>\n",
       "    <tr>\n",
       "      <th>1731</th>\n",
       "      <td>15.517694</td>\n",
       "      <td>9.948733</td>\n",
       "      <td>-0.000918</td>\n",
       "      <td>1014.866250</td>\n",
       "      <td>-10.202913</td>\n",
       "      <td>-0.223541</td>\n",
       "      <td>2000121806</td>\n",
       "      <td>17.325481</td>\n",
       "      <td>-68.850128</td>\n",
       "    </tr>\n",
       "  </tbody>\n",
       "</table>\n",
       "<p>1732 rows × 9 columns</p>\n",
       "</div>"
      ],
      "text/plain": [
       "        AirTemp         QV     Omega  SeaLevPress     UWinds    VWinds  \\\n",
       "0      7.060846   7.267001  0.000642  1021.565625 -11.894431 -5.276164   \n",
       "1      7.100183   7.474899 -0.000296  1021.084141 -11.230261 -3.172798   \n",
       "2      7.068231   7.335827  0.000323  1020.302969 -10.246526 -1.993664   \n",
       "3      7.328638   7.064822  0.000828  1020.585156  -9.889462 -1.943067   \n",
       "4      7.598169   7.333828  0.000373  1022.448281 -10.461138 -1.204948   \n",
       "...         ...        ...       ...          ...        ...       ...   \n",
       "1727  15.948999  11.653900 -0.000827  1013.982500 -11.293950 -0.528353   \n",
       "1728  16.130365  11.756897 -0.001596  1013.459063  -9.442187 -0.190940   \n",
       "1729  16.080194  12.042999 -0.001654  1015.073047  -9.237350 -0.138638   \n",
       "1730  15.767419  10.295868 -0.000208  1015.828281 -10.230459 -0.086515   \n",
       "1731  15.517694   9.948733 -0.000918  1014.866250 -10.202913 -0.223541   \n",
       "\n",
       "            Time        Lat        Lon  \n",
       "0     2000010100  25.064459 -35.368896  \n",
       "1     2000010103  24.480576 -36.771637  \n",
       "2     2000010106  24.649042 -37.882874  \n",
       "3     2000010109  24.122194 -38.753021  \n",
       "4     2000010112  24.368916 -40.022919  \n",
       "...          ...        ...        ...  \n",
       "1727  2000121718  16.255468 -65.481140  \n",
       "1728  2000121721  15.835272 -66.934265  \n",
       "1729  2000121800  15.924951 -67.460663  \n",
       "1730  2000121803  16.759212 -67.945740  \n",
       "1731  2000121806  17.325481 -68.850128  \n",
       "\n",
       "[1732 rows x 9 columns]"
      ]
     },
     "execution_count": 110,
     "metadata": {},
     "output_type": "execute_result"
    }
   ],
   "source": [
    "data_X"
   ]
  },
  {
   "cell_type": "code",
   "execution_count": 111,
   "id": "a1cb7bef",
   "metadata": {},
   "outputs": [
    {
     "data": {
      "text/plain": [
       "[0.4210526315789474,\n",
       " 0.509090909090909,\n",
       " 0.4695652173913044,\n",
       " 0.5384615384615384,\n",
       " 0.5384615384615384,\n",
       " 0.5132743362831858,\n",
       " 0.5641025641025641,\n",
       " 0.5818181818181819]"
      ]
     },
     "execution_count": 111,
     "metadata": {},
     "output_type": "execute_result"
    }
   ],
   "source": [
    "res_combined = []\n",
    "for index in range(2, len(desc_corr)):\n",
    "    X_train, X_test, y_train, y_test = train_test_split(data_X[desc_corr.index[1:index]], data_Y, test_size=0.25, random_state=738)\n",
    "    dt = DecisionTreeClassifier()\n",
    "    dt.fit(X_train, y_train)\n",
    "    y_pred = dt.predict(X_test)\n",
    "    res_combined.append(f1_score(y_test, y_pred))\n",
    "res_combined"
   ]
  },
  {
   "cell_type": "code",
   "execution_count": 112,
   "id": "61017cd2",
   "metadata": {},
   "outputs": [],
   "source": [
    "combs = []\n",
    "for x in range(2, len(desc_corr)):\n",
    "    combs += [list(y) for y in combinations(desc_corr.index[1:], x)]"
   ]
  },
  {
   "cell_type": "code",
   "execution_count": 113,
   "id": "c4119db8",
   "metadata": {},
   "outputs": [],
   "source": [
    "# Keys will be index from combs list, Values will be F1 score\n",
    "res_comb = []\n",
    "for index in range(len(combs)):\n",
    "    X_train, X_test, y_train, y_test = train_test_split(data_X[combs[index]], data_Y, test_size=0.25, random_state=738)\n",
    "    dt = DecisionTreeClassifier()\n",
    "    dt.fit(X_train, y_train)\n",
    "    y_pred = dt.predict(X_test)\n",
    "    res_comb.append(f1_score(y_test, y_pred))"
   ]
  },
  {
   "cell_type": "code",
   "execution_count": 114,
   "id": "3bd6f4b4",
   "metadata": {},
   "outputs": [
    {
     "name": "stdout",
     "output_type": "stream",
     "text": [
      "Best F1 score of 0.609524 using\n",
      "['Omega', 'Lon', 'Lat', 'AirTemp', 'Time']\n"
     ]
    }
   ],
   "source": [
    "best_index = res_comb.index(max(res_comb))\n",
    "print(\"Best F1 score of %f using\\n%s\" % (res_comb[best_index], str(combs[best_index])))"
   ]
  },
  {
   "cell_type": "code",
   "execution_count": 115,
   "id": "42c448ff",
   "metadata": {
    "scrolled": true
   },
   "outputs": [],
   "source": [
    "# Keys will be index from combs list, Values will be F1 score\n",
    "res_comb = []\n",
    "for index in range(len(combs)):\n",
    "    X_train, X_test, y_train, y_test = train_test_split(data_X[combs[index]], data_Y, test_size=0.25, random_state=738)\n",
    "    dt = DecisionTreeClassifier(max_depth=10)\n",
    "    dt.fit(X_train, y_train)\n",
    "    y_pred = dt.predict(X_test)\n",
    "    res_comb.append(f1_score(y_test, y_pred))"
   ]
  },
  {
   "cell_type": "code",
   "execution_count": 116,
   "id": "6d5e0545",
   "metadata": {},
   "outputs": [
    {
     "name": "stdout",
     "output_type": "stream",
     "text": [
      "Best F1 score of 0.631579 using\n",
      "['Omega', 'Lon', 'SeaLevPress', 'AirTemp', 'Time', 'UWinds']\n"
     ]
    }
   ],
   "source": [
    "best_index = res_comb.index(max(res_comb))\n",
    "print(\"Best F1 score of %f using\\n%s\" % (res_comb[best_index], str(combs[best_index])))"
   ]
  },
  {
   "cell_type": "code",
   "execution_count": 117,
   "id": "819bdb2f",
   "metadata": {},
   "outputs": [],
   "source": [
    "# Keys will be index from combs list, Values will be F1 score\n",
    "res_comb = []\n",
    "for index in range(len(combs)):\n",
    "    X_train, X_test, y_train, y_test = train_test_split(data_X[combs[index]], data_Y, test_size=0.25, random_state=738)\n",
    "    dt = DecisionTreeClassifier(criterion=\"entropy\")\n",
    "    dt.fit(X_train, y_train)\n",
    "    y_pred = dt.predict(X_test)\n",
    "    res_comb.append(f1_score(y_test, y_pred))"
   ]
  },
  {
   "cell_type": "code",
   "execution_count": 118,
   "id": "742d78f6",
   "metadata": {},
   "outputs": [
    {
     "name": "stdout",
     "output_type": "stream",
     "text": [
      "Best F1 score of 0.646465 using\n",
      "['Omega', 'Lon', 'SeaLevPress', 'Lat', 'AirTemp']\n"
     ]
    }
   ],
   "source": [
    "best_index = res_comb.index(max(res_comb))\n",
    "print(\"Best F1 score of %f using\\n%s\" % (res_comb[best_index], str(combs[best_index])))"
   ]
  },
  {
   "cell_type": "code",
   "execution_count": 123,
   "id": "689306a2",
   "metadata": {},
   "outputs": [],
   "source": [
    "# Keys will be index from combs list, Values will be F1 score\n",
    "res_comb = []\n",
    "for index in range(len(combs)):\n",
    "    X_train, X_test, y_train, y_test = train_test_split(data_X[combs[index]], data_Y, test_size=0.25, random_state=738)\n",
    "    dt = DecisionTreeClassifier(criterion=\"entropy\", max_depth=9)\n",
    "    dt.fit(X_train, y_train)\n",
    "    y_pred = dt.predict(X_test)\n",
    "    res_comb.append(f1_score(y_test, y_pred))"
   ]
  },
  {
   "cell_type": "code",
   "execution_count": 124,
   "id": "f944ff36",
   "metadata": {},
   "outputs": [
    {
     "name": "stdout",
     "output_type": "stream",
     "text": [
      "Best F1 score of 0.645833 using\n",
      "['Omega', 'QV', 'Lon', 'SeaLevPress', 'Lat', 'AirTemp', 'UWinds', 'VWinds']\n"
     ]
    }
   ],
   "source": [
    "best_index = res_comb.index(max(res_comb))\n",
    "print(\"Best F1 score of %f using\\n%s\" % (res_comb[best_index], str(combs[best_index])))"
   ]
  },
  {
   "cell_type": "code",
   "execution_count": null,
   "id": "7464cbd3",
   "metadata": {},
   "outputs": [],
   "source": []
  },
  {
   "cell_type": "code",
   "execution_count": null,
   "id": "9c261f15",
   "metadata": {},
   "outputs": [],
   "source": []
  },
  {
   "cell_type": "code",
   "execution_count": null,
   "id": "ca9853ba",
   "metadata": {},
   "outputs": [],
   "source": []
  }
 ],
 "metadata": {
  "kernelspec": {
   "display_name": "Python 3 (ipykernel)",
   "language": "python",
   "name": "python3"
  },
  "language_info": {
   "codemirror_mode": {
    "name": "ipython",
    "version": 3
   },
   "file_extension": ".py",
   "mimetype": "text/x-python",
   "name": "python",
   "nbconvert_exporter": "python",
   "pygments_lexer": "ipython3",
   "version": "3.9.1"
  }
 },
 "nbformat": 4,
 "nbformat_minor": 5
}
