{
 "cells": [
  {
   "cell_type": "code",
   "execution_count": 17,
   "metadata": {
    "tags": []
   },
   "outputs": [],
   "source": [
    "# external imports\n",
    "import pandas as pd\n",
    "import numpy as np\n",
    "from sklearn.linear_model import Ridge\n",
    "from sklearn.model_selection import train_test_split\n",
    "from sklearn.metrics import mean_squared_error, r2_score, f1_score, accuracy_score\n",
    "from sklearn.preprocessing import PolynomialFeatures\n",
    "from imblearn.under_sampling import RandomUnderSampler\n",
    "from tqdm.notebook import tqdm\n",
    "import matplotlib.pyplot as plt\n",
    "import seaborn as sns\n",
    "from collections import Counter\n",
    "\n",
    "\n",
    "# internal imports\n",
    "import sys\n",
    "sys.path.insert(0,'../')\n",
    "from data_utils import add_deltas_and_time, scale_data, column_combinations, add_extreme, add_lifetime"
   ]
  },
  {
   "cell_type": "markdown",
   "metadata": {
    "tags": []
   },
   "source": [
    "# Polynomial Regression Testing"
   ]
  },
  {
   "cell_type": "code",
   "execution_count": 2,
   "metadata": {
    "collapsed": false,
    "jupyter": {
     "outputs_hidden": false
    }
   },
   "outputs": [],
   "source": [
    "data_850 = pd.read_csv('../NA850data_2000-2014.csv')\n",
    "data_w_extreme = add_extreme(data_850)\n",
    "data_w_time_deltas = add_deltas_and_time(data_w_extreme)\n",
    "data_w_lifetime = add_lifetime(data_w_time_deltas)"
   ]
  },
  {
   "cell_type": "code",
   "execution_count": 3,
   "metadata": {
    "collapsed": false,
    "jupyter": {
     "outputs_hidden": false
    }
   },
   "outputs": [
    {
     "data": {
      "text/plain": "                      AirTemp        QV     Omega  SeaLevPress    UWinds  \\\nTime                                                                       \n2000-01-01 03:00:00 -6.088163 -0.910811  0.080339     2.180997 -0.718670   \n2000-01-01 06:00:00 -6.107434 -0.943091  0.476626     1.966440 -0.527986   \n2000-01-01 09:00:00 -5.950378 -1.005994  0.800095     2.043946 -0.458774   \n2000-01-01 12:00:00 -5.787819 -0.943555  0.508682     2.555672 -0.569586   \n2000-01-01 15:00:00 -5.531023 -0.874945  0.388518     2.123726 -0.611146   \n\n                       VWinds       Lat       Lon   PtIndex  WaveTrajectory  \\\nTime                                                                          \n2000-01-01 03:00:00 -1.008888  1.243533  0.004734 -0.954545       -1.168067   \n2000-01-01 06:00:00 -0.698457  1.264110 -0.049866 -0.909091       -1.168067   \n2000-01-01 09:00:00 -0.685136  1.199761 -0.092620 -0.863636       -1.168067   \n2000-01-01 12:00:00 -0.490811  1.229895 -0.155015 -0.818182       -1.168067   \n2000-01-01 15:00:00 -0.452270  1.246959 -0.213574 -0.772727       -1.168067   \n\n                     dAirTemp       dQV    dOmega  dSeaLevPress   dUWinds  \\\nTime                                                                        \n2000-01-01 03:00:00  0.091148  0.195511 -0.799627     -0.251402  0.394266   \n2000-01-01 06:00:00 -0.035440 -0.160021  0.530617     -0.388836  0.580967   \n2000-01-01 09:00:00  0.483702 -0.295208  0.433411      0.098812  0.214843   \n2000-01-01 12:00:00  0.499905  0.258125 -0.387412      0.823818 -0.327761   \n2000-01-01 15:00:00  0.777359  0.285370 -0.158807     -0.751805 -0.119031   \n\n                      dVWinds      dLat      dLon  LifeTime  \nTime                                                         \n2000-01-01 03:00:00  1.285404 -1.218041 -1.279085     -1.50  \n2000-01-01 06:00:00  0.711946  0.271371 -0.790392     -1.50  \n2000-01-01 09:00:00  0.011722 -1.105129 -0.386217     -1.50  \n2000-01-01 12:00:00  0.438309  0.426290 -1.056380     -1.25  \n2000-01-01 15:00:00  0.071160  0.214437 -0.925509     -1.25  ",
      "text/html": "<div>\n<style scoped>\n    .dataframe tbody tr th:only-of-type {\n        vertical-align: middle;\n    }\n\n    .dataframe tbody tr th {\n        vertical-align: top;\n    }\n\n    .dataframe thead th {\n        text-align: right;\n    }\n</style>\n<table border=\"1\" class=\"dataframe\">\n  <thead>\n    <tr style=\"text-align: right;\">\n      <th></th>\n      <th>AirTemp</th>\n      <th>QV</th>\n      <th>Omega</th>\n      <th>SeaLevPress</th>\n      <th>UWinds</th>\n      <th>VWinds</th>\n      <th>Lat</th>\n      <th>Lon</th>\n      <th>PtIndex</th>\n      <th>WaveTrajectory</th>\n      <th>dAirTemp</th>\n      <th>dQV</th>\n      <th>dOmega</th>\n      <th>dSeaLevPress</th>\n      <th>dUWinds</th>\n      <th>dVWinds</th>\n      <th>dLat</th>\n      <th>dLon</th>\n      <th>LifeTime</th>\n    </tr>\n    <tr>\n      <th>Time</th>\n      <th></th>\n      <th></th>\n      <th></th>\n      <th></th>\n      <th></th>\n      <th></th>\n      <th></th>\n      <th></th>\n      <th></th>\n      <th></th>\n      <th></th>\n      <th></th>\n      <th></th>\n      <th></th>\n      <th></th>\n      <th></th>\n      <th></th>\n      <th></th>\n      <th></th>\n    </tr>\n  </thead>\n  <tbody>\n    <tr>\n      <th>2000-01-01 03:00:00</th>\n      <td>-6.088163</td>\n      <td>-0.910811</td>\n      <td>0.080339</td>\n      <td>2.180997</td>\n      <td>-0.718670</td>\n      <td>-1.008888</td>\n      <td>1.243533</td>\n      <td>0.004734</td>\n      <td>-0.954545</td>\n      <td>-1.168067</td>\n      <td>0.091148</td>\n      <td>0.195511</td>\n      <td>-0.799627</td>\n      <td>-0.251402</td>\n      <td>0.394266</td>\n      <td>1.285404</td>\n      <td>-1.218041</td>\n      <td>-1.279085</td>\n      <td>-1.50</td>\n    </tr>\n    <tr>\n      <th>2000-01-01 06:00:00</th>\n      <td>-6.107434</td>\n      <td>-0.943091</td>\n      <td>0.476626</td>\n      <td>1.966440</td>\n      <td>-0.527986</td>\n      <td>-0.698457</td>\n      <td>1.264110</td>\n      <td>-0.049866</td>\n      <td>-0.909091</td>\n      <td>-1.168067</td>\n      <td>-0.035440</td>\n      <td>-0.160021</td>\n      <td>0.530617</td>\n      <td>-0.388836</td>\n      <td>0.580967</td>\n      <td>0.711946</td>\n      <td>0.271371</td>\n      <td>-0.790392</td>\n      <td>-1.50</td>\n    </tr>\n    <tr>\n      <th>2000-01-01 09:00:00</th>\n      <td>-5.950378</td>\n      <td>-1.005994</td>\n      <td>0.800095</td>\n      <td>2.043946</td>\n      <td>-0.458774</td>\n      <td>-0.685136</td>\n      <td>1.199761</td>\n      <td>-0.092620</td>\n      <td>-0.863636</td>\n      <td>-1.168067</td>\n      <td>0.483702</td>\n      <td>-0.295208</td>\n      <td>0.433411</td>\n      <td>0.098812</td>\n      <td>0.214843</td>\n      <td>0.011722</td>\n      <td>-1.105129</td>\n      <td>-0.386217</td>\n      <td>-1.50</td>\n    </tr>\n    <tr>\n      <th>2000-01-01 12:00:00</th>\n      <td>-5.787819</td>\n      <td>-0.943555</td>\n      <td>0.508682</td>\n      <td>2.555672</td>\n      <td>-0.569586</td>\n      <td>-0.490811</td>\n      <td>1.229895</td>\n      <td>-0.155015</td>\n      <td>-0.818182</td>\n      <td>-1.168067</td>\n      <td>0.499905</td>\n      <td>0.258125</td>\n      <td>-0.387412</td>\n      <td>0.823818</td>\n      <td>-0.327761</td>\n      <td>0.438309</td>\n      <td>0.426290</td>\n      <td>-1.056380</td>\n      <td>-1.25</td>\n    </tr>\n    <tr>\n      <th>2000-01-01 15:00:00</th>\n      <td>-5.531023</td>\n      <td>-0.874945</td>\n      <td>0.388518</td>\n      <td>2.123726</td>\n      <td>-0.611146</td>\n      <td>-0.452270</td>\n      <td>1.246959</td>\n      <td>-0.213574</td>\n      <td>-0.772727</td>\n      <td>-1.168067</td>\n      <td>0.777359</td>\n      <td>0.285370</td>\n      <td>-0.158807</td>\n      <td>-0.751805</td>\n      <td>-0.119031</td>\n      <td>0.071160</td>\n      <td>0.214437</td>\n      <td>-0.925509</td>\n      <td>-1.25</td>\n    </tr>\n  </tbody>\n</table>\n</div>"
     },
     "execution_count": 3,
     "metadata": {},
     "output_type": "execute_result"
    }
   ],
   "source": [
    "# get scaled provided data with deltas and time added\n",
    "X = data_w_lifetime.drop(columns=['LH', 'dLH', \"Extreme\", \"dExtreme\"])\n",
    "X = scale_data(X)\n",
    "\n",
    "y = data_w_lifetime['LH']\n",
    "y_extreme = data_w_lifetime['Extreme']\n",
    "\n",
    "X.head()"
   ]
  },
  {
   "cell_type": "code",
   "execution_count": 4,
   "metadata": {
    "collapsed": false,
    "jupyter": {
     "outputs_hidden": false
    }
   },
   "outputs": [
    {
     "data": {
      "text/plain": "(1594, 15671)"
     },
     "execution_count": 4,
     "metadata": {},
     "output_type": "execute_result"
    }
   ],
   "source": [
    "len(y_extreme[y_extreme == 1]), len(y_extreme)"
   ]
  },
  {
   "cell_type": "code",
   "execution_count": 5,
   "metadata": {
    "collapsed": false,
    "jupyter": {
     "outputs_hidden": false
    }
   },
   "outputs": [],
   "source": [
    "undersampler = RandomUnderSampler(sampling_strategy=1, random_state=5)\n",
    "X_under, y_extreme_under = undersampler.fit_resample(X, y_extreme)\n",
    "y_under = y[undersampler.sample_indices_]"
   ]
  },
  {
   "cell_type": "code",
   "execution_count": 6,
   "metadata": {
    "collapsed": false,
    "jupyter": {
     "outputs_hidden": false
    }
   },
   "outputs": [
    {
     "data": {
      "text/plain": "(1594, 3188)"
     },
     "execution_count": 6,
     "metadata": {},
     "output_type": "execute_result"
    }
   ],
   "source": [
    "len(y_extreme_under[y_extreme_under == 1]), len(y_extreme_under)"
   ]
  },
  {
   "cell_type": "code",
   "execution_count": 7,
   "metadata": {
    "collapsed": false,
    "jupyter": {
     "outputs_hidden": false
    }
   },
   "outputs": [
    {
     "data": {
      "text/plain": "<Figure size 640x480 with 1 Axes>",
      "image/png": "[encoded data removed]"
     },
     "metadata": {},
     "output_type": "display_data"
    },
    {
     "data": {
      "text/plain": "<Figure size 640x480 with 1 Axes>",
      "image/png": "[encoded data removed]"
     },
     "metadata": {},
     "output_type": "display_data"
    }
   ],
   "source": [
    "sns.histplot(y)\n",
    "plt.title(\"Before Undersampling\")\n",
    "plt.show()\n",
    "sns.histplot(y_under)\n",
    "plt.title(\"After Undersampling\")\n",
    "plt.show()"
   ]
  },
  {
   "cell_type": "code",
   "execution_count": 8,
   "metadata": {
    "collapsed": false,
    "jupyter": {
     "outputs_hidden": false
    }
   },
   "outputs": [],
   "source": [
    "LQ = data_850.LH.quantile(0.25)\n",
    "UQ = data_850.LH.quantile(0.75)\n",
    "bound = 1.5 * (UQ - LQ)  # Whisker length * IQR\n",
    "lower_bound = LQ - bound\n",
    "upper_bound = UQ + bound\n",
    "\n",
    "def classify_extremes(y_pred):\n",
    "    return np.where((y_pred > upper_bound) | (y_pred < lower_bound), 1, 0)"
   ]
  },
  {
   "cell_type": "code",
   "execution_count": 9,
   "metadata": {
    "collapsed": false,
    "jupyter": {
     "outputs_hidden": false
    }
   },
   "outputs": [
    {
     "data": {
      "text/plain": "['SeaLevPress',\n 'UWinds',\n 'Lat',\n 'Lon',\n 'PtIndex',\n 'WaveTrajectory',\n 'dAirTemp',\n 'dQV',\n 'dOmega',\n 'dSeaLevPress',\n 'dUWinds',\n 'dVWinds',\n 'dLat',\n 'dLon',\n 'LifeTime']"
     },
     "execution_count": 9,
     "metadata": {},
     "output_type": "execute_result"
    }
   ],
   "source": [
    "preselected_features = [\"AirTemp\", \"QV\", \"Omega\", \"VWinds\"]\n",
    "features_to_select = [feature for feature in X.columns if feature not in preselected_features]\n",
    "\n",
    "features_to_select"
   ]
  },
  {
   "cell_type": "code",
   "execution_count": 10,
   "metadata": {
    "collapsed": false,
    "jupyter": {
     "outputs_hidden": false
    }
   },
   "outputs": [
    {
     "data": {
      "text/plain": "Degree 1:   0%|          | 0/4943 [00:00<?, ?it/s]",
      "application/vnd.jupyter.widget-view+json": {
       "version_major": 2,
       "version_minor": 0,
       "model_id": "0f1504a28ba74b3aa05b7882cc28a657"
      }
     },
     "metadata": {},
     "output_type": "display_data"
    },
    {
     "data": {
      "text/plain": "Degree 2:   0%|          | 0/4943 [00:00<?, ?it/s]",
      "application/vnd.jupyter.widget-view+json": {
       "version_major": 2,
       "version_minor": 0,
       "model_id": "e75a33a3efe64fcea3c8c1e13cc3c06b"
      }
     },
     "metadata": {},
     "output_type": "display_data"
    },
    {
     "data": {
      "text/plain": "Degree 3:   0%|          | 0/4943 [00:00<?, ?it/s]",
      "application/vnd.jupyter.widget-view+json": {
       "version_major": 2,
       "version_minor": 0,
       "model_id": "22482ab4f2f1452e9c10527c356f54f0"
      }
     },
     "metadata": {},
     "output_type": "display_data"
    }
   ],
   "source": [
    "poly_reg = Ridge(random_state=1)  # Ridge -> L2 regularization\n",
    "X_train, X_test, y_train, y_test, y_ex_train, y_ex_test = \\\n",
    "    train_test_split(X_under, y_under, y_extreme_under, test_size=0.2, random_state=2)\n",
    "\n",
    "# initialize metric list\n",
    "log_csv = []\n",
    "\n",
    "# test over degrees 1-3\n",
    "degrees = [1, 2, 3]\n",
    "for degree in degrees:\n",
    "    # test over all combinations of a maximum length\n",
    "    for comb in tqdm(column_combinations(features_to_select, max_len=5), desc=f\"Degree {degree}\"):\n",
    "        # polynomial transform train and test inputs\n",
    "        features_selected = preselected_features + comb\n",
    "        poly = PolynomialFeatures(degree)\n",
    "        X_train_poly = poly.fit_transform(X_train[features_selected])\n",
    "        X_test_poly = poly.fit_transform(X_test[features_selected])\n",
    "\n",
    "        # fit and predict train and test\n",
    "        poly_reg.fit(X_train_poly, y_train)\n",
    "        y_pred_train = poly_reg.predict(X_train_poly)\n",
    "        y_pred_test = poly_reg.predict(X_test_poly)\n",
    "\n",
    "        y_pred_ex_train = classify_extremes(y_pred_train)\n",
    "        y_pred_ex_test = classify_extremes(y_pred_test)\n",
    "\n",
    "        # log training and testing metrics to list\n",
    "        log_csv.append(\n",
    "            [degree, features_selected,\n",
    "            mean_squared_error(y_train, y_pred_train),  # train MSE\n",
    "            mean_squared_error(y_test, y_pred_test),  # test MSE\n",
    "            r2_score(y_train, y_pred_train),  # train r^2\n",
    "            r2_score(y_test, y_pred_test),  # test r^2\n",
    "            accuracy_score(y_ex_train, y_pred_ex_train),  # train accuracy\n",
    "            accuracy_score(y_ex_test, y_pred_ex_test),  # test accuracy\n",
    "            f1_score(y_ex_train, y_pred_ex_train),  # train f1\n",
    "            f1_score(y_ex_test, y_pred_ex_test)]  # test f1\n",
    "        )"
   ]
  },
  {
   "cell_type": "code",
   "execution_count": 11,
   "metadata": {
    "collapsed": false,
    "jupyter": {
     "outputs_hidden": false
    }
   },
   "outputs": [],
   "source": [
    "log_csv_sorted = sorted(log_csv, key=lambda l: l[-1], reverse=True)  # sort by max testing f1\n",
    "# convert to dataframe and write to file\n",
    "log_df = pd.DataFrame(log_csv_sorted, columns=[\"degree\", \"feature_combination\", \"train_MSE\",\n",
    "                                               \"test_MSE\", \"train_r^2\", \"test_r^2\", \"train_acc\",\n",
    "                                               \"test_acc\", \"train_F1\", \"test_F1\"])\n",
    "log_df.to_csv(\"polyreg_results.csv\", sep=\"|\", index=False)"
   ]
  },
  {
   "cell_type": "code",
   "execution_count": 19,
   "metadata": {
    "collapsed": false,
    "jupyter": {
     "outputs_hidden": false
    }
   },
   "outputs": [
    {
     "data": {
      "text/plain": "{'AirTemp': 10,\n 'QV': 10,\n 'Omega': 10,\n 'VWinds': 10,\n 'UWinds': 10,\n 'Lat': 6,\n 'PtIndex': 3,\n 'dQV': 1,\n 'dOmega': 8,\n 'WaveTrajectory': 3,\n 'dVWinds': 1,\n 'LifeTime': 4,\n 'Lon': 1,\n 'dAirTemp': 1,\n 'dLat': 1}"
     },
     "execution_count": 19,
     "metadata": {},
     "output_type": "execute_result"
    }
   ],
   "source": [
    "all_top_features = sum([log[1] for log in log_csv_sorted[:10]], start=[])\n",
    "dict(Counter(all_top_features))"
   ]
  },
  {
   "cell_type": "code",
   "execution_count": null,
   "outputs": [],
   "source": [],
   "metadata": {
    "collapsed": false
   }
  }
 ],
 "metadata": {
  "kernelspec": {
   "display_name": "Python 3 (ipykernel)",
   "language": "python",
   "name": "python3"
  },
  "language_info": {
   "codemirror_mode": {
    "name": "ipython",
    "version": 3
   },
   "file_extension": ".py",
   "mimetype": "text/x-python",
   "name": "python",
   "nbconvert_exporter": "python",
   "pygments_lexer": "ipython3",
   "version": "3.9.12"
  }
 },
 "nbformat": 4,
 "nbformat_minor": 4
}
