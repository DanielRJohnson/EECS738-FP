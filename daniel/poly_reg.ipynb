{
 "cells": [
  {
   "cell_type": "code",
   "execution_count": 1,
   "metadata": {
    "tags": []
   },
   "outputs": [],
   "source": [
    "# external imports\n",
    "import pandas as pd\n",
    "import numpy as np\n",
    "from sklearn.linear_model import Ridge\n",
    "from sklearn.model_selection import train_test_split\n",
    "from sklearn.metrics import mean_squared_error, r2_score, f1_score, accuracy_score\n",
    "from sklearn.preprocessing import PolynomialFeatures\n",
    "from imblearn.under_sampling import NearMiss\n",
    "from tqdm.notebook import tqdm\n",
    "import matplotlib.pyplot as plt\n",
    "import seaborn as sns\n",
    "\n",
    "\n",
    "# internal imports\n",
    "import sys\n",
    "sys.path.insert(0,'../')\n",
    "from data_utils import add_deltas_and_time, scale_data, column_combinations, add_extreme"
   ]
  },
  {
   "cell_type": "markdown",
   "metadata": {
    "tags": []
   },
   "source": [
    "# Polynomial Regression Testing"
   ]
  },
  {
   "cell_type": "code",
   "execution_count": 2,
   "metadata": {
    "collapsed": false,
    "jupyter": {
     "outputs_hidden": false
    }
   },
   "outputs": [],
   "source": [
    "data_850 = pd.read_csv('../NA850data_2000-2014.csv')\n",
    "data_w_extreme = add_extreme(data_850)"
   ]
  },
  {
   "cell_type": "code",
   "execution_count": 3,
   "metadata": {
    "collapsed": false,
    "jupyter": {
     "outputs_hidden": false
    }
   },
   "outputs": [
    {
     "data": {
      "text/html": [
       "<div>\n",
       "<style scoped>\n",
       "    .dataframe tbody tr th:only-of-type {\n",
       "        vertical-align: middle;\n",
       "    }\n",
       "\n",
       "    .dataframe tbody tr th {\n",
       "        vertical-align: top;\n",
       "    }\n",
       "\n",
       "    .dataframe thead th {\n",
       "        text-align: right;\n",
       "    }\n",
       "</style>\n",
       "<table border=\"1\" class=\"dataframe\">\n",
       "  <thead>\n",
       "    <tr style=\"text-align: right;\">\n",
       "      <th></th>\n",
       "      <th>AirTemp</th>\n",
       "      <th>QV</th>\n",
       "      <th>Omega</th>\n",
       "      <th>SeaLevPress</th>\n",
       "      <th>UWinds</th>\n",
       "      <th>VWinds</th>\n",
       "      <th>Lat</th>\n",
       "      <th>Lon</th>\n",
       "      <th>PtIndex</th>\n",
       "      <th>WaveTrajectory</th>\n",
       "      <th>dAirTemp</th>\n",
       "      <th>dQV</th>\n",
       "      <th>dOmega</th>\n",
       "      <th>dSeaLevPress</th>\n",
       "      <th>dUWinds</th>\n",
       "      <th>dVWinds</th>\n",
       "      <th>dLat</th>\n",
       "      <th>dLon</th>\n",
       "      <th>dPtIndex</th>\n",
       "      <th>dWaveTrajectory</th>\n",
       "    </tr>\n",
       "    <tr>\n",
       "      <th>Time</th>\n",
       "      <th></th>\n",
       "      <th></th>\n",
       "      <th></th>\n",
       "      <th></th>\n",
       "      <th></th>\n",
       "      <th></th>\n",
       "      <th></th>\n",
       "      <th></th>\n",
       "      <th></th>\n",
       "      <th></th>\n",
       "      <th></th>\n",
       "      <th></th>\n",
       "      <th></th>\n",
       "      <th></th>\n",
       "      <th></th>\n",
       "      <th></th>\n",
       "      <th></th>\n",
       "      <th></th>\n",
       "      <th></th>\n",
       "      <th></th>\n",
       "    </tr>\n",
       "  </thead>\n",
       "  <tbody>\n",
       "    <tr>\n",
       "      <th>2000-01-01 00:00:00</th>\n",
       "      <td>-5.894685</td>\n",
       "      <td>-0.921917</td>\n",
       "      <td>0.663327</td>\n",
       "      <td>2.255124</td>\n",
       "      <td>-0.838782</td>\n",
       "      <td>-1.512121</td>\n",
       "      <td>1.284264</td>\n",
       "      <td>0.046455</td>\n",
       "      <td>-0.904762</td>\n",
       "      <td>-1.252252</td>\n",
       "      <td>0.023965</td>\n",
       "      <td>-0.020884</td>\n",
       "      <td>0.001439</td>\n",
       "      <td>-0.031599</td>\n",
       "      <td>0.008588</td>\n",
       "      <td>-0.019885</td>\n",
       "      <td>-0.051313</td>\n",
       "      <td>1.086233</td>\n",
       "      <td>-1.0</td>\n",
       "      <td>0.0</td>\n",
       "    </tr>\n",
       "    <tr>\n",
       "      <th>2000-01-03 06:00:00</th>\n",
       "      <td>-3.680371</td>\n",
       "      <td>-0.425460</td>\n",
       "      <td>-0.022623</td>\n",
       "      <td>0.672601</td>\n",
       "      <td>-1.048340</td>\n",
       "      <td>-0.713308</td>\n",
       "      <td>0.730487</td>\n",
       "      <td>-0.914611</td>\n",
       "      <td>-0.047619</td>\n",
       "      <td>-1.252252</td>\n",
       "      <td>6.670923</td>\n",
       "      <td>2.258245</td>\n",
       "      <td>-0.935016</td>\n",
       "      <td>-2.753314</td>\n",
       "      <td>-0.637262</td>\n",
       "      <td>1.909090</td>\n",
       "      <td>-9.334594</td>\n",
       "      <td>-31.353357</td>\n",
       "      <td>17.0</td>\n",
       "      <td>0.0</td>\n",
       "    </tr>\n",
       "    <tr>\n",
       "      <th>2000-01-01 03:00:00</th>\n",
       "      <td>-5.871791</td>\n",
       "      <td>-0.875048</td>\n",
       "      <td>0.071067</td>\n",
       "      <td>2.125345</td>\n",
       "      <td>-0.711381</td>\n",
       "      <td>-0.966044</td>\n",
       "      <td>1.214122</td>\n",
       "      <td>-0.022959</td>\n",
       "      <td>-0.857143</td>\n",
       "      <td>-1.252252</td>\n",
       "      <td>-6.554269</td>\n",
       "      <td>-2.084847</td>\n",
       "      <td>0.129345</td>\n",
       "      <td>2.466917</td>\n",
       "      <td>1.047082</td>\n",
       "      <td>-0.630193</td>\n",
       "      <td>8.056147</td>\n",
       "      <td>31.182853</td>\n",
       "      <td>-18.0</td>\n",
       "      <td>0.0</td>\n",
       "    </tr>\n",
       "    <tr>\n",
       "      <th>2000-01-03 09:00:00</th>\n",
       "      <td>-3.512013</td>\n",
       "      <td>-0.464887</td>\n",
       "      <td>0.337309</td>\n",
       "      <td>0.527725</td>\n",
       "      <td>-0.801232</td>\n",
       "      <td>-0.684463</td>\n",
       "      <td>0.612075</td>\n",
       "      <td>-0.959157</td>\n",
       "      <td>0.000000</td>\n",
       "      <td>-1.252252</td>\n",
       "      <td>7.107577</td>\n",
       "      <td>1.862080</td>\n",
       "      <td>0.364911</td>\n",
       "      <td>-2.779281</td>\n",
       "      <td>-0.268328</td>\n",
       "      <td>0.660079</td>\n",
       "      <td>-10.143794</td>\n",
       "      <td>-30.513986</td>\n",
       "      <td>17.0</td>\n",
       "      <td>0.0</td>\n",
       "    </tr>\n",
       "    <tr>\n",
       "      <th>2000-01-01 06:00:00</th>\n",
       "      <td>-5.890387</td>\n",
       "      <td>-0.906401</td>\n",
       "      <td>0.462108</td>\n",
       "      <td>1.914790</td>\n",
       "      <td>-0.522681</td>\n",
       "      <td>-0.659917</td>\n",
       "      <td>1.234360</td>\n",
       "      <td>-0.077947</td>\n",
       "      <td>-0.809524</td>\n",
       "      <td>-1.252252</td>\n",
       "      <td>-7.115468</td>\n",
       "      <td>-2.047782</td>\n",
       "      <td>0.171814</td>\n",
       "      <td>2.353958</td>\n",
       "      <td>0.867068</td>\n",
       "      <td>0.039388</td>\n",
       "      <td>10.380425</td>\n",
       "      <td>30.830375</td>\n",
       "      <td>-18.0</td>\n",
       "      <td>0.0</td>\n",
       "    </tr>\n",
       "  </tbody>\n",
       "</table>\n",
       "</div>"
      ],
      "text/plain": [
       "                      AirTemp        QV     Omega  SeaLevPress    UWinds  \\\n",
       "Time                                                                       \n",
       "2000-01-01 00:00:00 -5.894685 -0.921917  0.663327     2.255124 -0.838782   \n",
       "2000-01-03 06:00:00 -3.680371 -0.425460 -0.022623     0.672601 -1.048340   \n",
       "2000-01-01 03:00:00 -5.871791 -0.875048  0.071067     2.125345 -0.711381   \n",
       "2000-01-03 09:00:00 -3.512013 -0.464887  0.337309     0.527725 -0.801232   \n",
       "2000-01-01 06:00:00 -5.890387 -0.906401  0.462108     1.914790 -0.522681   \n",
       "\n",
       "                       VWinds       Lat       Lon   PtIndex  WaveTrajectory  \\\n",
       "Time                                                                          \n",
       "2000-01-01 00:00:00 -1.512121  1.284264  0.046455 -0.904762       -1.252252   \n",
       "2000-01-03 06:00:00 -0.713308  0.730487 -0.914611 -0.047619       -1.252252   \n",
       "2000-01-01 03:00:00 -0.966044  1.214122 -0.022959 -0.857143       -1.252252   \n",
       "2000-01-03 09:00:00 -0.684463  0.612075 -0.959157  0.000000       -1.252252   \n",
       "2000-01-01 06:00:00 -0.659917  1.234360 -0.077947 -0.809524       -1.252252   \n",
       "\n",
       "                     dAirTemp       dQV    dOmega  dSeaLevPress   dUWinds  \\\n",
       "Time                                                                        \n",
       "2000-01-01 00:00:00  0.023965 -0.020884  0.001439     -0.031599  0.008588   \n",
       "2000-01-03 06:00:00  6.670923  2.258245 -0.935016     -2.753314 -0.637262   \n",
       "2000-01-01 03:00:00 -6.554269 -2.084847  0.129345      2.466917  1.047082   \n",
       "2000-01-03 09:00:00  7.107577  1.862080  0.364911     -2.779281 -0.268328   \n",
       "2000-01-01 06:00:00 -7.115468 -2.047782  0.171814      2.353958  0.867068   \n",
       "\n",
       "                      dVWinds       dLat       dLon  dPtIndex  dWaveTrajectory  \n",
       "Time                                                                            \n",
       "2000-01-01 00:00:00 -0.019885  -0.051313   1.086233      -1.0              0.0  \n",
       "2000-01-03 06:00:00  1.909090  -9.334594 -31.353357      17.0              0.0  \n",
       "2000-01-01 03:00:00 -0.630193   8.056147  31.182853     -18.0              0.0  \n",
       "2000-01-03 09:00:00  0.660079 -10.143794 -30.513986      17.0              0.0  \n",
       "2000-01-01 06:00:00  0.039388  10.380425  30.830375     -18.0              0.0  "
      ]
     },
     "execution_count": 3,
     "metadata": {},
     "output_type": "execute_result"
    }
   ],
   "source": [
    "# get scaled provided data with deltas and time added\n",
    "X = data_850.drop(columns=['LH'])\n",
    "X = add_deltas_and_time(X)\n",
    "X = scale_data(X)\n",
    "\n",
    "y = data_850['LH']\n",
    "y_extreme = data_w_extreme['Extreme']\n",
    "\n",
    "X.head()"
   ]
  },
  {
   "cell_type": "code",
   "execution_count": 4,
   "metadata": {
    "collapsed": false,
    "jupyter": {
     "outputs_hidden": false
    }
   },
   "outputs": [
    {
     "data": {
      "text/plain": [
       "(2106, 20304)"
      ]
     },
     "execution_count": 4,
     "metadata": {},
     "output_type": "execute_result"
    }
   ],
   "source": [
    "len(y_extreme[y_extreme == 1]), len(y_extreme)"
   ]
  },
  {
   "cell_type": "code",
   "execution_count": 5,
   "metadata": {
    "collapsed": false,
    "jupyter": {
     "outputs_hidden": false
    }
   },
   "outputs": [],
   "source": [
    "undersampler = NearMiss(sampling_strategy=1)\n",
    "X_under, y_extreme_under = undersampler.fit_resample(X, y_extreme)\n",
    "y_under = y[undersampler.sample_indices_]"
   ]
  },
  {
   "cell_type": "code",
   "execution_count": 6,
   "metadata": {
    "collapsed": false,
    "jupyter": {
     "outputs_hidden": false
    }
   },
   "outputs": [
    {
     "data": {
      "text/plain": [
       "(2106, 4212)"
      ]
     },
     "execution_count": 6,
     "metadata": {},
     "output_type": "execute_result"
    }
   ],
   "source": [
    "len(y_extreme_under[y_extreme_under == 1]), len(y_extreme_under)"
   ]
  },
  {
   "cell_type": "code",
   "execution_count": 7,
   "metadata": {
    "collapsed": false,
    "jupyter": {
     "outputs_hidden": false
    }
   },
   "outputs": [
    {
     "data": {
      "image/png": "[encoded data removed]",
      "text/plain": [
       "<Figure size 640x480 with 1 Axes>"
      ]
     },
     "metadata": {},
     "output_type": "display_data"
    },
    {
     "data": {
      "image/png": "[encoded data removed]",
      "text/plain": [
       "<Figure size 640x480 with 1 Axes>"
      ]
     },
     "metadata": {},
     "output_type": "display_data"
    }
   ],
   "source": [
    "sns.histplot(y)\n",
    "plt.title(\"Before Undersampling\")\n",
    "plt.show()\n",
    "sns.histplot(y_under)\n",
    "plt.title(\"After Undersampling\")\n",
    "plt.show()"
   ]
  },
  {
   "cell_type": "code",
   "execution_count": 8,
   "metadata": {
    "collapsed": false,
    "jupyter": {
     "outputs_hidden": false
    }
   },
   "outputs": [],
   "source": [
    "LQ = data_850.LH.quantile(0.25)\n",
    "UQ = data_850.LH.quantile(0.75)\n",
    "bound = 1.5 * (UQ - LQ)  # Whisker length * IQR\n",
    "lower_bound = LQ - bound\n",
    "upper_bound = UQ + bound\n",
    "\n",
    "def classify_extremes(y_pred):\n",
    "    return np.where((y_pred > upper_bound) | (y_pred < lower_bound), 1, 0)"
   ]
  },
  {
   "cell_type": "code",
   "execution_count": 9,
   "metadata": {
    "collapsed": false,
    "jupyter": {
     "outputs_hidden": false
    }
   },
   "outputs": [
    {
     "data": {
      "text/plain": [
       "['SeaLevPress',\n",
       " 'UWinds',\n",
       " 'Lat',\n",
       " 'Lon',\n",
       " 'PtIndex',\n",
       " 'WaveTrajectory',\n",
       " 'dAirTemp',\n",
       " 'dQV',\n",
       " 'dOmega',\n",
       " 'dSeaLevPress',\n",
       " 'dUWinds',\n",
       " 'dVWinds',\n",
       " 'dLat',\n",
       " 'dLon',\n",
       " 'dPtIndex',\n",
       " 'dWaveTrajectory']"
      ]
     },
     "execution_count": 9,
     "metadata": {},
     "output_type": "execute_result"
    }
   ],
   "source": [
    "preselected_features = [\"AirTemp\", \"QV\", \"Omega\", \"VWinds\"]\n",
    "features_to_select = [feature for feature in X.columns if feature not in preselected_features]\n",
    "\n",
    "features_to_select"
   ]
  },
  {
   "cell_type": "code",
   "execution_count": 10,
   "metadata": {
    "collapsed": false,
    "jupyter": {
     "outputs_hidden": false
    }
   },
   "outputs": [
    {
     "data": {
      "application/vnd.jupyter.widget-view+json": {
       "model_id": "7492bb8a281d41d5846bec1885130d08",
       "version_major": 2,
       "version_minor": 0
      },
      "text/plain": [
       "Degree 1:   0%|          | 0/6884 [00:00<?, ?it/s]"
      ]
     },
     "metadata": {},
     "output_type": "display_data"
    },
    {
     "ename": "KeyboardInterrupt",
     "evalue": "",
     "output_type": "error",
     "traceback": [
      "\u001b[0;31m---------------------------------------------------------------------------\u001b[0m",
      "\u001b[0;31mKeyboardInterrupt\u001b[0m                         Traceback (most recent call last)",
      "Cell \u001b[0;32mIn [10], line 33\u001b[0m\n\u001b[1;32m     25\u001b[0m y_pred_ex_test \u001b[38;5;241m=\u001b[39m classify_extremes(y_pred_test)\n\u001b[1;32m     27\u001b[0m \u001b[38;5;66;03m# log training and testing metrics to list\u001b[39;00m\n\u001b[1;32m     28\u001b[0m log_csv\u001b[38;5;241m.\u001b[39mappend(\n\u001b[1;32m     29\u001b[0m     [degree, features_selected,\n\u001b[1;32m     30\u001b[0m     mean_squared_error(y_train, y_pred_train),  \u001b[38;5;66;03m# train MSE\u001b[39;00m\n\u001b[1;32m     31\u001b[0m     mean_squared_error(y_test, y_pred_test),  \u001b[38;5;66;03m# test MSE\u001b[39;00m\n\u001b[1;32m     32\u001b[0m     r2_score(y_train, y_pred_train),  \u001b[38;5;66;03m# train r^2\u001b[39;00m\n\u001b[0;32m---> 33\u001b[0m     \u001b[43mr2_score\u001b[49m\u001b[43m(\u001b[49m\u001b[43my_test\u001b[49m\u001b[43m,\u001b[49m\u001b[43m \u001b[49m\u001b[43my_pred_test\u001b[49m\u001b[43m)\u001b[49m,  \u001b[38;5;66;03m# test r^2\u001b[39;00m\n\u001b[1;32m     34\u001b[0m     accuracy_score(y_ex_train, y_pred_ex_train),  \u001b[38;5;66;03m# train accuracy\u001b[39;00m\n\u001b[1;32m     35\u001b[0m     accuracy_score(y_ex_test, y_pred_ex_test),  \u001b[38;5;66;03m# test accuracy\u001b[39;00m\n\u001b[1;32m     36\u001b[0m     f1_score(y_ex_train, y_pred_ex_train),  \u001b[38;5;66;03m# train f1\u001b[39;00m\n\u001b[1;32m     37\u001b[0m     f1_score(y_ex_test, y_pred_ex_test)]  \u001b[38;5;66;03m# test f1\u001b[39;00m\n\u001b[1;32m     38\u001b[0m )\n",
      "File \u001b[0;32m/opt/homebrew/Caskroom/miniforge/base/envs/main/lib/python3.11/site-packages/sklearn/metrics/_regression.py:927\u001b[0m, in \u001b[0;36mr2_score\u001b[0;34m(y_true, y_pred, sample_weight, multioutput, force_finite)\u001b[0m\n\u001b[1;32m    924\u001b[0m \u001b[38;5;28;01melse\u001b[39;00m:\n\u001b[1;32m    925\u001b[0m     weight \u001b[38;5;241m=\u001b[39m \u001b[38;5;241m1.0\u001b[39m\n\u001b[0;32m--> 927\u001b[0m numerator \u001b[38;5;241m=\u001b[39m \u001b[43m(\u001b[49m\u001b[43mweight\u001b[49m\u001b[43m \u001b[49m\u001b[38;5;241;43m*\u001b[39;49m\u001b[43m \u001b[49m\u001b[43m(\u001b[49m\u001b[43my_true\u001b[49m\u001b[43m \u001b[49m\u001b[38;5;241;43m-\u001b[39;49m\u001b[43m \u001b[49m\u001b[43my_pred\u001b[49m\u001b[43m)\u001b[49m\u001b[43m \u001b[49m\u001b[38;5;241;43m*\u001b[39;49m\u001b[38;5;241;43m*\u001b[39;49m\u001b[43m \u001b[49m\u001b[38;5;241;43m2\u001b[39;49m\u001b[43m)\u001b[49m\u001b[38;5;241;43m.\u001b[39;49m\u001b[43msum\u001b[49m\u001b[43m(\u001b[49m\u001b[43maxis\u001b[49m\u001b[38;5;241;43m=\u001b[39;49m\u001b[38;5;241;43m0\u001b[39;49m\u001b[43m,\u001b[49m\u001b[43m \u001b[49m\u001b[43mdtype\u001b[49m\u001b[38;5;241;43m=\u001b[39;49m\u001b[43mnp\u001b[49m\u001b[38;5;241;43m.\u001b[39;49m\u001b[43mfloat64\u001b[49m\u001b[43m)\u001b[49m\n\u001b[1;32m    928\u001b[0m denominator \u001b[38;5;241m=\u001b[39m (\n\u001b[1;32m    929\u001b[0m     weight \u001b[38;5;241m*\u001b[39m (y_true \u001b[38;5;241m-\u001b[39m np\u001b[38;5;241m.\u001b[39maverage(y_true, axis\u001b[38;5;241m=\u001b[39m\u001b[38;5;241m0\u001b[39m, weights\u001b[38;5;241m=\u001b[39msample_weight)) \u001b[38;5;241m*\u001b[39m\u001b[38;5;241m*\u001b[39m \u001b[38;5;241m2\u001b[39m\n\u001b[1;32m    930\u001b[0m )\u001b[38;5;241m.\u001b[39msum(axis\u001b[38;5;241m=\u001b[39m\u001b[38;5;241m0\u001b[39m, dtype\u001b[38;5;241m=\u001b[39mnp\u001b[38;5;241m.\u001b[39mfloat64)\n\u001b[1;32m    932\u001b[0m \u001b[38;5;28;01mreturn\u001b[39;00m _assemble_r2_explained_variance(\n\u001b[1;32m    933\u001b[0m     numerator\u001b[38;5;241m=\u001b[39mnumerator,\n\u001b[1;32m    934\u001b[0m     denominator\u001b[38;5;241m=\u001b[39mdenominator,\n\u001b[0;32m   (...)\u001b[0m\n\u001b[1;32m    937\u001b[0m     force_finite\u001b[38;5;241m=\u001b[39mforce_finite,\n\u001b[1;32m    938\u001b[0m )\n",
      "File \u001b[0;32m/opt/homebrew/Caskroom/miniforge/base/envs/main/lib/python3.11/site-packages/numpy/core/_methods.py:48\u001b[0m, in \u001b[0;36m_sum\u001b[0;34m(a, axis, dtype, out, keepdims, initial, where)\u001b[0m\n\u001b[1;32m     46\u001b[0m \u001b[38;5;28;01mdef\u001b[39;00m \u001b[38;5;21m_sum\u001b[39m(a, axis\u001b[38;5;241m=\u001b[39m\u001b[38;5;28;01mNone\u001b[39;00m, dtype\u001b[38;5;241m=\u001b[39m\u001b[38;5;28;01mNone\u001b[39;00m, out\u001b[38;5;241m=\u001b[39m\u001b[38;5;28;01mNone\u001b[39;00m, keepdims\u001b[38;5;241m=\u001b[39m\u001b[38;5;28;01mFalse\u001b[39;00m,\n\u001b[1;32m     47\u001b[0m          initial\u001b[38;5;241m=\u001b[39m_NoValue, where\u001b[38;5;241m=\u001b[39m\u001b[38;5;28;01mTrue\u001b[39;00m):\n\u001b[0;32m---> 48\u001b[0m     \u001b[38;5;28;01mreturn\u001b[39;00m umr_sum(a, axis, dtype, out, keepdims, initial, where)\n",
      "\u001b[0;31mKeyboardInterrupt\u001b[0m: "
     ]
    }
   ],
   "source": [
    "poly_reg = Ridge(random_state=1)  # Ridge -> L2 regularization\n",
    "X_train, X_test, y_train, y_test, y_ex_train, y_ex_test = \\\n",
    "    train_test_split(X_under, y_under, y_extreme_under, test_size=0.2, random_state=2)\n",
    "\n",
    "# initialize metric list\n",
    "log_csv = []\n",
    "\n",
    "# test over degrees 1-4\n",
    "degrees = [1, 2, 3]\n",
    "for degree in degrees:\n",
    "    # test over all combinations of a maximum length\n",
    "    for comb in tqdm(column_combinations(features_to_select, max_len=5), desc=f\"Degree {degree}\"):\n",
    "        # polynomial transform train and test inputs\n",
    "        features_selected = preselected_features + comb\n",
    "        poly = PolynomialFeatures(degree)\n",
    "        X_train_poly = poly.fit_transform(X_train[features_selected])\n",
    "        X_test_poly = poly.fit_transform(X_test[features_selected])\n",
    "\n",
    "        # fit and predict train and test\n",
    "        poly_reg.fit(X_train_poly, y_train)\n",
    "        y_pred_train = poly_reg.predict(X_train_poly)\n",
    "        y_pred_test = poly_reg.predict(X_test_poly)\n",
    "\n",
    "        y_pred_ex_train = classify_extremes(y_pred_train)\n",
    "        y_pred_ex_test = classify_extremes(y_pred_test)\n",
    "\n",
    "        # log training and testing metrics to list\n",
    "        log_csv.append(\n",
    "            [degree, features_selected,\n",
    "            mean_squared_error(y_train, y_pred_train),  # train MSE\n",
    "            mean_squared_error(y_test, y_pred_test),  # test MSE\n",
    "            r2_score(y_train, y_pred_train),  # train r^2\n",
    "            r2_score(y_test, y_pred_test),  # test r^2\n",
    "            accuracy_score(y_ex_train, y_pred_ex_train),  # train accuracy\n",
    "            accuracy_score(y_ex_test, y_pred_ex_test),  # test accuracy\n",
    "            f1_score(y_ex_train, y_pred_ex_train),  # train f1\n",
    "            f1_score(y_ex_test, y_pred_ex_test)]  # test f1\n",
    "        )"
   ]
  },
  {
   "cell_type": "code",
   "execution_count": null,
   "metadata": {
    "collapsed": false,
    "jupyter": {
     "outputs_hidden": false
    }
   },
   "outputs": [],
   "source": [
    "log_csv_sorted = sorted(log_csv, key=lambda l: l[-1], reverse=True)  # sort by max testing f1\n",
    "# convert to dataframe and write to file\n",
    "log_df = pd.DataFrame(log_csv_sorted, columns=[\"degree\", \"feature_combination\", \"train_MSE\",\n",
    "                                               \"test_MSE\", \"train_r^2\", \"test_r^2\", \"train_acc\",\n",
    "                                               \"test_acc\", \"train_F1\", \"test_F1\"])\n",
    "log_df.to_csv(\"polyreg_results.csv\", sep=\"|\", index=False)"
   ]
  },
  {
   "cell_type": "code",
   "execution_count": null,
   "metadata": {
    "collapsed": false,
    "jupyter": {
     "outputs_hidden": false
    }
   },
   "outputs": [],
   "source": []
  }
 ],
 "metadata": {
  "kernelspec": {
   "display_name": "Python 3 (ipykernel)",
   "language": "python",
   "name": "python3"
  },
  "language_info": {
   "codemirror_mode": {
    "name": "ipython",
    "version": 3
   },
   "file_extension": ".py",
   "mimetype": "text/x-python",
   "name": "python",
   "nbconvert_exporter": "python",
   "pygments_lexer": "ipython3",
   "version": "3.9.12"
  }
 },
 "nbformat": 4,
 "nbformat_minor": 4
}
