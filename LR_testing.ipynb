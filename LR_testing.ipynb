{
 "cells": [
  {
   "cell_type": "markdown",
   "id": "5195ba4e-11fe-42c1-bc4d-e461768496a3",
   "metadata": {
    "tags": []
   },
   "source": [
    "# Imports"
   ]
  },
  {
   "cell_type": "code",
   "execution_count": 97,
   "id": "4cec78bd-8b54-4b21-b27a-8031f546fb84",
   "metadata": {},
   "outputs": [],
   "source": [
    "import pandas as pd\n",
    "from sklearn import linear_model\n",
    "from sklearn.model_selection import train_test_split\n",
    "from sklearn.metrics import mean_squared_error, r2_score\n",
    "from sklearn import preprocessing\n",
    "# add more as needed"
   ]
  },
  {
   "cell_type": "markdown",
   "id": "3cb5e835-c2e9-4a0f-bd72-9be1899c4d81",
   "metadata": {
    "tags": []
   },
   "source": [
    "# ReadMe"
   ]
  },
  {
   "cell_type": "markdown",
   "id": "9fe029e0-738e-4324-a2f3-139bfb871ec3",
   "metadata": {},
   "source": [
    "Goal: For now, attempt to see how well linear regression can be applied to the data and perform feature selection\n",
    "Using: ‘data_table_NA850v3_nonfiltered’ , using the updated version now\n",
    "About: \n",
    "Contains LH/latent heating variable (K/day) and 7 predictor variables: AirTemp (°C), QV/Specific Humidity (g/kg), Omega/Vertical velocity (hPa/s), Surface Pressure (hPa), Sea Level Pressure (hPa), U-Winds/zonal winds (m/s), and V-Winds/meridional winds (m/s). \n",
    "\n",
    " \n",
    "\n",
    "This ‘nonfiltered’ data has all available TEW matches for a single test year (2000) in the N. Atlantic domain (N=1732) and retrieves the predictor variables at the same vertical level as the chosen level for LH (850 mb or lower troposphere), with the exception of the sea level and surface pressures since those do not have a vertical dimension.  \n",
    "\n",
    " \n",
    "\n",
    "*Can be used to determine extremes aside from using the 10th and 90th percentiles as done previously (and below in 2.)"
   ]
  },
  {
   "cell_type": "markdown",
   "id": "6b2a3337-a812-4025-9c8b-608a5a9e13f5",
   "metadata": {
    "tags": []
   },
   "source": [
    "# Getting Data and Basic Preprocessing"
   ]
  },
  {
   "cell_type": "code",
   "execution_count": 98,
   "id": "4916779d-12e7-48d0-8bb3-bd975079fe5c",
   "metadata": {},
   "outputs": [
    {
     "data": {
      "text/plain": "    AirTemp        QV     Omega  SeaLevPress     UWinds    VWinds         LH  \\\n0  7.060846  7.267001  0.000642  1021.565625 -11.894431 -5.276164  12.888080   \n1  7.100183  7.474899 -0.000296  1021.084141 -11.230261 -3.172798 -10.217120   \n2  7.068231  7.335827  0.000323  1020.302969 -10.246526 -1.993664   0.511768   \n3  7.328638  7.064822  0.000828  1020.585156  -9.889462 -1.943067 -16.420087   \n4  7.598169  7.333828  0.000373  1022.448281 -10.461138 -1.204948  -6.642615   \n\n         Time        Lat        Lon  \n0  2000010100  25.064459 -35.368896  \n1  2000010103  24.480576 -36.771637  \n2  2000010106  24.649042 -37.882874  \n3  2000010109  24.122194 -38.753021  \n4  2000010112  24.368916 -40.022919  ",
      "text/html": "<div>\n<style scoped>\n    .dataframe tbody tr th:only-of-type {\n        vertical-align: middle;\n    }\n\n    .dataframe tbody tr th {\n        vertical-align: top;\n    }\n\n    .dataframe thead th {\n        text-align: right;\n    }\n</style>\n<table border=\"1\" class=\"dataframe\">\n  <thead>\n    <tr style=\"text-align: right;\">\n      <th></th>\n      <th>AirTemp</th>\n      <th>QV</th>\n      <th>Omega</th>\n      <th>SeaLevPress</th>\n      <th>UWinds</th>\n      <th>VWinds</th>\n      <th>LH</th>\n      <th>Time</th>\n      <th>Lat</th>\n      <th>Lon</th>\n    </tr>\n  </thead>\n  <tbody>\n    <tr>\n      <th>0</th>\n      <td>7.060846</td>\n      <td>7.267001</td>\n      <td>0.000642</td>\n      <td>1021.565625</td>\n      <td>-11.894431</td>\n      <td>-5.276164</td>\n      <td>12.888080</td>\n      <td>2000010100</td>\n      <td>25.064459</td>\n      <td>-35.368896</td>\n    </tr>\n    <tr>\n      <th>1</th>\n      <td>7.100183</td>\n      <td>7.474899</td>\n      <td>-0.000296</td>\n      <td>1021.084141</td>\n      <td>-11.230261</td>\n      <td>-3.172798</td>\n      <td>-10.217120</td>\n      <td>2000010103</td>\n      <td>24.480576</td>\n      <td>-36.771637</td>\n    </tr>\n    <tr>\n      <th>2</th>\n      <td>7.068231</td>\n      <td>7.335827</td>\n      <td>0.000323</td>\n      <td>1020.302969</td>\n      <td>-10.246526</td>\n      <td>-1.993664</td>\n      <td>0.511768</td>\n      <td>2000010106</td>\n      <td>24.649042</td>\n      <td>-37.882874</td>\n    </tr>\n    <tr>\n      <th>3</th>\n      <td>7.328638</td>\n      <td>7.064822</td>\n      <td>0.000828</td>\n      <td>1020.585156</td>\n      <td>-9.889462</td>\n      <td>-1.943067</td>\n      <td>-16.420087</td>\n      <td>2000010109</td>\n      <td>24.122194</td>\n      <td>-38.753021</td>\n    </tr>\n    <tr>\n      <th>4</th>\n      <td>7.598169</td>\n      <td>7.333828</td>\n      <td>0.000373</td>\n      <td>1022.448281</td>\n      <td>-10.461138</td>\n      <td>-1.204948</td>\n      <td>-6.642615</td>\n      <td>2000010112</td>\n      <td>24.368916</td>\n      <td>-40.022919</td>\n    </tr>\n  </tbody>\n</table>\n</div>"
     },
     "execution_count": 98,
     "metadata": {},
     "output_type": "execute_result"
    }
   ],
   "source": [
    "data_850 = pd.read_csv('data_table_NA850_nonfiltered_updated.csv')\n",
    "\n",
    "# testing the view\n",
    "data_850.head()"
   ]
  },
  {
   "cell_type": "code",
   "execution_count": 99,
   "id": "b13d17b4-8a94-4085-9b45-04f8cad73f58",
   "metadata": {},
   "outputs": [],
   "source": [
    "# for now, drop the Time, Lat, and Lon Data -- will revisit later\n",
    "data_850 = data_850.drop(columns = ['Time','Lat','Lon'])"
   ]
  },
  {
   "cell_type": "code",
   "execution_count": 100,
   "id": "755b7536-ad89-4c5e-8853-0782c90cc784",
   "metadata": {},
   "outputs": [
    {
     "data": {
      "text/plain": "        AirTemp         QV     Omega  SeaLevPress     UWinds    VWinds  \\\n0      7.060846   7.267001  0.000642  1021.565625 -11.894431 -5.276164   \n1      7.100183   7.474899 -0.000296  1021.084141 -11.230261 -3.172798   \n2      7.068231   7.335827  0.000323  1020.302969 -10.246526 -1.993664   \n3      7.328638   7.064822  0.000828  1020.585156  -9.889462 -1.943067   \n4      7.598169   7.333828  0.000373  1022.448281 -10.461138 -1.204948   \n...         ...        ...       ...          ...        ...       ...   \n1727  15.948999  11.653900 -0.000827  1013.982500 -11.293950 -0.528353   \n1728  16.130365  11.756897 -0.001596  1013.459063  -9.442187 -0.190940   \n1729  16.080194  12.042999 -0.001654  1015.073047  -9.237350 -0.138638   \n1730  15.767419  10.295868 -0.000208  1015.828281 -10.230459 -0.086515   \n1731  15.517694   9.948733 -0.000918  1014.866250 -10.202913 -0.223541   \n\n             LH  \n0     12.888080  \n1    -10.217120  \n2      0.511768  \n3    -16.420087  \n4     -6.642615  \n...         ...  \n1727  12.654820  \n1728   5.019984  \n1729   3.817070  \n1730   3.073150  \n1731   5.155522  \n\n[1732 rows x 7 columns]",
      "text/html": "<div>\n<style scoped>\n    .dataframe tbody tr th:only-of-type {\n        vertical-align: middle;\n    }\n\n    .dataframe tbody tr th {\n        vertical-align: top;\n    }\n\n    .dataframe thead th {\n        text-align: right;\n    }\n</style>\n<table border=\"1\" class=\"dataframe\">\n  <thead>\n    <tr style=\"text-align: right;\">\n      <th></th>\n      <th>AirTemp</th>\n      <th>QV</th>\n      <th>Omega</th>\n      <th>SeaLevPress</th>\n      <th>UWinds</th>\n      <th>VWinds</th>\n      <th>LH</th>\n    </tr>\n  </thead>\n  <tbody>\n    <tr>\n      <th>0</th>\n      <td>7.060846</td>\n      <td>7.267001</td>\n      <td>0.000642</td>\n      <td>1021.565625</td>\n      <td>-11.894431</td>\n      <td>-5.276164</td>\n      <td>12.888080</td>\n    </tr>\n    <tr>\n      <th>1</th>\n      <td>7.100183</td>\n      <td>7.474899</td>\n      <td>-0.000296</td>\n      <td>1021.084141</td>\n      <td>-11.230261</td>\n      <td>-3.172798</td>\n      <td>-10.217120</td>\n    </tr>\n    <tr>\n      <th>2</th>\n      <td>7.068231</td>\n      <td>7.335827</td>\n      <td>0.000323</td>\n      <td>1020.302969</td>\n      <td>-10.246526</td>\n      <td>-1.993664</td>\n      <td>0.511768</td>\n    </tr>\n    <tr>\n      <th>3</th>\n      <td>7.328638</td>\n      <td>7.064822</td>\n      <td>0.000828</td>\n      <td>1020.585156</td>\n      <td>-9.889462</td>\n      <td>-1.943067</td>\n      <td>-16.420087</td>\n    </tr>\n    <tr>\n      <th>4</th>\n      <td>7.598169</td>\n      <td>7.333828</td>\n      <td>0.000373</td>\n      <td>1022.448281</td>\n      <td>-10.461138</td>\n      <td>-1.204948</td>\n      <td>-6.642615</td>\n    </tr>\n    <tr>\n      <th>...</th>\n      <td>...</td>\n      <td>...</td>\n      <td>...</td>\n      <td>...</td>\n      <td>...</td>\n      <td>...</td>\n      <td>...</td>\n    </tr>\n    <tr>\n      <th>1727</th>\n      <td>15.948999</td>\n      <td>11.653900</td>\n      <td>-0.000827</td>\n      <td>1013.982500</td>\n      <td>-11.293950</td>\n      <td>-0.528353</td>\n      <td>12.654820</td>\n    </tr>\n    <tr>\n      <th>1728</th>\n      <td>16.130365</td>\n      <td>11.756897</td>\n      <td>-0.001596</td>\n      <td>1013.459063</td>\n      <td>-9.442187</td>\n      <td>-0.190940</td>\n      <td>5.019984</td>\n    </tr>\n    <tr>\n      <th>1729</th>\n      <td>16.080194</td>\n      <td>12.042999</td>\n      <td>-0.001654</td>\n      <td>1015.073047</td>\n      <td>-9.237350</td>\n      <td>-0.138638</td>\n      <td>3.817070</td>\n    </tr>\n    <tr>\n      <th>1730</th>\n      <td>15.767419</td>\n      <td>10.295868</td>\n      <td>-0.000208</td>\n      <td>1015.828281</td>\n      <td>-10.230459</td>\n      <td>-0.086515</td>\n      <td>3.073150</td>\n    </tr>\n    <tr>\n      <th>1731</th>\n      <td>15.517694</td>\n      <td>9.948733</td>\n      <td>-0.000918</td>\n      <td>1014.866250</td>\n      <td>-10.202913</td>\n      <td>-0.223541</td>\n      <td>5.155522</td>\n    </tr>\n  </tbody>\n</table>\n<p>1732 rows × 7 columns</p>\n</div>"
     },
     "execution_count": 100,
     "metadata": {},
     "output_type": "execute_result"
    }
   ],
   "source": [
    "# test viewing the data\n",
    "data_850"
   ]
  },
  {
   "cell_type": "markdown",
   "id": "1a4b2a68-94f4-4393-b2e6-45258082727c",
   "metadata": {
    "tags": []
   },
   "source": [
    "# Testing Linear Regression On All Data"
   ]
  },
  {
   "cell_type": "code",
   "execution_count": 101,
   "id": "1477b907-6fc3-4660-a974-5a59b1abcd8b",
   "metadata": {},
   "outputs": [],
   "source": [
    "# i am curious, so I will apply linear regression with the data as-is\n",
    "data_850_Y = data_850['LH']\n",
    "data_850_X = data_850.drop(columns = ['LH'])"
   ]
  },
  {
   "cell_type": "code",
   "execution_count": 102,
   "id": "a72e34ff-9951-4d71-a416-96ccc491eb31",
   "metadata": {},
   "outputs": [],
   "source": [
    "# split the data 80/20\n",
    "X_train, X_test, y_train, y_test = train_test_split(data_850_X, data_850_Y, test_size=0.2, random_state=5)"
   ]
  },
  {
   "cell_type": "code",
   "execution_count": 103,
   "id": "e74088d5-a0cf-4dba-8a2a-c3100abc875d",
   "metadata": {},
   "outputs": [],
   "source": [
    "# fit the regression\n",
    "regression = linear_model.LinearRegression()\n",
    "regression.fit(X_train, y_train)\n",
    "y_pred = regression.predict(X_test)"
   ]
  },
  {
   "cell_type": "code",
   "execution_count": 104,
   "id": "e49d1037-345f-4a26-bd6f-e7b9c7689066",
   "metadata": {},
   "outputs": [
    {
     "name": "stdout",
     "output_type": "stream",
     "text": [
      "Coefficients: \n",
      " [-2.83778381e-01  4.90868127e-01 -3.97301676e+03  1.73276879e-01\n",
      "  8.02213591e-02 -3.55103222e-01]\n"
     ]
    }
   ],
   "source": [
    "# testing/observations\n",
    "# The coefficients\n",
    "print(\"Coefficients: \\n\", regression.coef_)"
   ]
  },
  {
   "cell_type": "code",
   "execution_count": 105,
   "id": "8c887bd7-f1e0-48d0-8ca6-30110a54968e",
   "metadata": {},
   "outputs": [
    {
     "name": "stdout",
     "output_type": "stream",
     "text": [
      "Mean squared error: 33.84\n"
     ]
    }
   ],
   "source": [
    "# The mean squared error\n",
    "print(\"Mean squared error: %.2f\" % mean_squared_error(y_test, y_pred))"
   ]
  },
  {
   "cell_type": "code",
   "execution_count": 106,
   "id": "c77c3e3f-443b-4e22-a84a-cabe8c627584",
   "metadata": {},
   "outputs": [
    {
     "name": "stdout",
     "output_type": "stream",
     "text": [
      "Coefficient of determination: 0.53\n"
     ]
    }
   ],
   "source": [
    "# The coefficient of determination: 1 is perfect prediction\n",
    "print(\"Coefficient of determination: %.2f\" % r2_score(y_test,y_pred))"
   ]
  },
  {
   "cell_type": "markdown",
   "id": "a7f5302b-8531-483e-a427-f68a5af23212",
   "metadata": {},
   "source": [
    "So, maybe not great. Feature Selection should be performed next. Potentially return here - perhaps LH normalization later"
   ]
  },
  {
   "cell_type": "markdown",
   "id": "31bf866a-0cac-493b-9720-8eddf481b05c",
   "metadata": {
    "tags": []
   },
   "source": [
    "# Feature Importance and Selection"
   ]
  },
  {
   "cell_type": "markdown",
   "id": "2a962d33-f5b1-439c-8cbe-353fe5f0559d",
   "metadata": {
    "tags": []
   },
   "source": [
    "### sources used to help me here:\n",
    "https://www.analyticsvidhya.com/blog/2021/03/standardized-vs-unstandardized-regression-coefficient/#:~:text=Yes%2C%20we%20standardize%20both%20the,standardized%20form%20of%20the%20variables).\n",
    "https://stats.stackexchange.com/questions/32649/some-of-my-predictors-are-on-very-different-scales-do-i-need-to-transform-them\n",
    "https://www.askpython.com/python/examples/standardize-data-in-python"
   ]
  },
  {
   "cell_type": "code",
   "execution_count": 107,
   "id": "fe7c9744-53f3-4809-bae7-aaa7ef4ad0bb",
   "metadata": {},
   "outputs": [],
   "source": [
    "# I think a decent first approach is to standardize all the data, then the weights associated (the w's) could hint at feature importance. Also the difference in performance \n",
    "# could be interesting to see - perhaps normalize later, as well \n",
    "\n",
    "# from looking online, it seems that normalization is good when the distribution of data does not follow a guassian distribution\n",
    "# an dstandardization ... \n",
    "\n",
    "# standardize X data:\n",
    "strd_data_X = preprocessing.scale(data_850_X)\n",
    "\n",
    "# standardize Y data\n",
    "strd_data_Y = preprocessing.scale(data_850_Y)"
   ]
  },
  {
   "cell_type": "code",
   "execution_count": 108,
   "id": "a277d6c5-964d-4242-b6a8-f2fb196ab45f",
   "metadata": {},
   "outputs": [
    {
     "name": "stdout",
     "output_type": "stream",
     "text": [
      "Coefficients: \n",
      " [-0.07667045  0.15828568 -0.76266915  0.04829311  0.02750393 -0.10248174]\n",
      "Mean squared error: 0.28\n",
      "Coefficient of determination: 0.53\n"
     ]
    }
   ],
   "source": [
    "# now that they are scaled, perform the split and linear regression again:\n",
    "\n",
    "# split the data 80/20\n",
    "X_train, X_test, y_train, y_test = train_test_split(strd_data_X, strd_data_Y, test_size=0.2, random_state=5)\n",
    "\n",
    "# fit the regression\n",
    "regression = linear_model.LinearRegression()\n",
    "regression.fit(X_train, y_train)\n",
    "y_pred = regression.predict(X_test)\n",
    "\n",
    "# testing/observations\n",
    "\n",
    "# The coefficients\n",
    "print(\"Coefficients: \\n\", regression.coef_)\n",
    "\n",
    "# The mean squared error\n",
    "print(\"Mean squared error: %.2f\" % mean_squared_error(y_test, y_pred))\n",
    "\n",
    "# The coefficient of determination: 1 is perfect prediction\n",
    "print(\"Coefficient of determination: %.2f\" % r2_score(y_test,y_pred))"
   ]
  },
  {
   "cell_type": "markdown",
   "id": "35ea7098-a333-4f3b-aba6-6bd173ae0033",
   "metadata": {},
   "source": [
    "This doesn't really tell us anything new, it just gives us a clearer look into the importance of the features via the absolute value of the weight (I believe). "
   ]
  },
  {
   "cell_type": "code",
   "execution_count": 109,
   "id": "24f55bf1-00a8-4ed1-b213-9f8cc5899924",
   "metadata": {},
   "outputs": [
    {
     "data": {
      "text/plain": "       AirTemp        QV     Omega  SeaLevPress    UWinds    VWinds        LH\n0    -3.193367 -0.677703  0.690171     2.500588 -1.044694 -1.730464  0.718572\n1    -3.180184 -0.619326  0.248001     2.344165 -0.869289 -1.070549 -1.373492\n2    -3.190892 -0.658377  0.539945     2.090379 -0.609490 -0.700604 -0.402043\n3    -3.103621 -0.734473  0.778244     2.182055 -0.515191 -0.684730 -1.935141\n4    -3.013292 -0.658938  0.563560     2.787344 -0.666168 -0.453150 -1.049838\n...        ...       ...       ...          ...       ...       ...       ...\n1727 -0.214657  0.554114 -0.002618     0.036995 -0.886109 -0.240874  0.697451\n1728 -0.153876  0.583035 -0.365525    -0.133058 -0.397068 -0.135013  0.006154\n1729 -0.170690  0.663371 -0.392693     0.391290 -0.342971 -0.118603 -0.102764\n1730 -0.275511  0.172787  0.289488     0.636650 -0.605247 -0.102250 -0.170123\n1731 -0.359202  0.075313 -0.045613     0.324107 -0.597972 -0.145241  0.018426\n\n[1732 rows x 7 columns]",
      "text/html": "<div>\n<style scoped>\n    .dataframe tbody tr th:only-of-type {\n        vertical-align: middle;\n    }\n\n    .dataframe tbody tr th {\n        vertical-align: top;\n    }\n\n    .dataframe thead th {\n        text-align: right;\n    }\n</style>\n<table border=\"1\" class=\"dataframe\">\n  <thead>\n    <tr style=\"text-align: right;\">\n      <th></th>\n      <th>AirTemp</th>\n      <th>QV</th>\n      <th>Omega</th>\n      <th>SeaLevPress</th>\n      <th>UWinds</th>\n      <th>VWinds</th>\n      <th>LH</th>\n    </tr>\n  </thead>\n  <tbody>\n    <tr>\n      <th>0</th>\n      <td>-3.193367</td>\n      <td>-0.677703</td>\n      <td>0.690171</td>\n      <td>2.500588</td>\n      <td>-1.044694</td>\n      <td>-1.730464</td>\n      <td>0.718572</td>\n    </tr>\n    <tr>\n      <th>1</th>\n      <td>-3.180184</td>\n      <td>-0.619326</td>\n      <td>0.248001</td>\n      <td>2.344165</td>\n      <td>-0.869289</td>\n      <td>-1.070549</td>\n      <td>-1.373492</td>\n    </tr>\n    <tr>\n      <th>2</th>\n      <td>-3.190892</td>\n      <td>-0.658377</td>\n      <td>0.539945</td>\n      <td>2.090379</td>\n      <td>-0.609490</td>\n      <td>-0.700604</td>\n      <td>-0.402043</td>\n    </tr>\n    <tr>\n      <th>3</th>\n      <td>-3.103621</td>\n      <td>-0.734473</td>\n      <td>0.778244</td>\n      <td>2.182055</td>\n      <td>-0.515191</td>\n      <td>-0.684730</td>\n      <td>-1.935141</td>\n    </tr>\n    <tr>\n      <th>4</th>\n      <td>-3.013292</td>\n      <td>-0.658938</td>\n      <td>0.563560</td>\n      <td>2.787344</td>\n      <td>-0.666168</td>\n      <td>-0.453150</td>\n      <td>-1.049838</td>\n    </tr>\n    <tr>\n      <th>...</th>\n      <td>...</td>\n      <td>...</td>\n      <td>...</td>\n      <td>...</td>\n      <td>...</td>\n      <td>...</td>\n      <td>...</td>\n    </tr>\n    <tr>\n      <th>1727</th>\n      <td>-0.214657</td>\n      <td>0.554114</td>\n      <td>-0.002618</td>\n      <td>0.036995</td>\n      <td>-0.886109</td>\n      <td>-0.240874</td>\n      <td>0.697451</td>\n    </tr>\n    <tr>\n      <th>1728</th>\n      <td>-0.153876</td>\n      <td>0.583035</td>\n      <td>-0.365525</td>\n      <td>-0.133058</td>\n      <td>-0.397068</td>\n      <td>-0.135013</td>\n      <td>0.006154</td>\n    </tr>\n    <tr>\n      <th>1729</th>\n      <td>-0.170690</td>\n      <td>0.663371</td>\n      <td>-0.392693</td>\n      <td>0.391290</td>\n      <td>-0.342971</td>\n      <td>-0.118603</td>\n      <td>-0.102764</td>\n    </tr>\n    <tr>\n      <th>1730</th>\n      <td>-0.275511</td>\n      <td>0.172787</td>\n      <td>0.289488</td>\n      <td>0.636650</td>\n      <td>-0.605247</td>\n      <td>-0.102250</td>\n      <td>-0.170123</td>\n    </tr>\n    <tr>\n      <th>1731</th>\n      <td>-0.359202</td>\n      <td>0.075313</td>\n      <td>-0.045613</td>\n      <td>0.324107</td>\n      <td>-0.597972</td>\n      <td>-0.145241</td>\n      <td>0.018426</td>\n    </tr>\n  </tbody>\n</table>\n<p>1732 rows × 7 columns</p>\n</div>"
     },
     "execution_count": 109,
     "metadata": {},
     "output_type": "execute_result"
    }
   ],
   "source": [
    "# use normalization column-wise (via pandas)\n",
    "# source for this: https://stackoverflow.com/questions/26414913/normalize-columns-of-a-dataframe\n",
    "\n",
    "norm_data_850 = (data_850 - data_850.mean())/data_850.std() # should be col wise\n",
    "\n",
    "norm_data_850                 \n"
   ]
  },
  {
   "cell_type": "code",
   "execution_count": 110,
   "id": "8a6792a4-3682-4d37-9618-de8dca285560",
   "metadata": {},
   "outputs": [
    {
     "name": "stdout",
     "output_type": "stream",
     "text": [
      "Coefficients: \n",
      " [-0.07667045  0.15828568 -0.76266915  0.04829311  0.02750393 -0.10248174]\n",
      "Mean squared error: 0.28\n",
      "Coefficient of determination: 0.53\n"
     ]
    }
   ],
   "source": [
    "# now perform linear regression again:\n",
    "\n",
    "data_850_Y = norm_data_850['LH']\n",
    "data_850_X = norm_data_850.drop(columns = ['LH'])\n",
    "\n",
    "# split the data 80/20\n",
    "X_train, X_test, y_train, y_test = train_test_split(data_850_X, data_850_Y, test_size=0.2, random_state=5)\n",
    "\n",
    "# fit the regression\n",
    "regression = linear_model.LinearRegression()\n",
    "regression.fit(X_train, y_train)\n",
    "y_pred = regression.predict(X_test)\n",
    "\n",
    "# testing/observations\n",
    "# The coefficients\n",
    "print(\"Coefficients: \\n\", regression.coef_)\n",
    "\n",
    "# The mean squared error\n",
    "print(\"Mean squared error: %.2f\" % mean_squared_error(y_test, y_pred))\n",
    "\n",
    "# The coefficient of determination: 1 is perfect prediction\n",
    "print(\"Coefficient of determination: %.2f\" % r2_score(y_test,y_pred))"
   ]
  },
  {
   "cell_type": "markdown",
   "id": "ad8a7b86-a88d-4813-8c1f-8f1a7b6160d2",
   "metadata": {},
   "source": [
    "The values are the same here"
   ]
  },
  {
   "cell_type": "code",
   "execution_count": 115,
   "outputs": [],
   "source": [],
   "metadata": {
    "collapsed": false
   }
  }
 ],
 "metadata": {
  "kernelspec": {
   "display_name": "Python 3 (ipykernel)",
   "language": "python",
   "name": "python3"
  },
  "language_info": {
   "codemirror_mode": {
    "name": "ipython",
    "version": 3
   },
   "file_extension": ".py",
   "mimetype": "text/x-python",
   "name": "python",
   "nbconvert_exporter": "python",
   "pygments_lexer": "ipython3",
   "version": "3.9.12"
  }
 },
 "nbformat": 4,
 "nbformat_minor": 5
}
